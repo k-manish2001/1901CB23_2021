{
  "nbformat": 4,
  "nbformat_minor": 5,
  "metadata": {
    "colab": {
      "name": "1-python-numpy-tutorial.ipynb",
      "provenance": []
    }
  },
  "cells": [
    {
      "cell_type": "markdown",
      "metadata": {
        "id": "4y25TPuCYuuM"
      },
      "source": [
        "Python Crash Course\n",
        "===================\n",
        "\n",
        "*Fraida Fund*\n",
        "\n",
        "[![Open In\n",
        "Colab](https://colab.research.google.com/assets/colab-badge.svg)](https://colab.research.google.com/github/ffund/ml-notebooks/blob/master/notebooks/1-python-numpy-tutorial.ipynb)"
      ],
      "id": "4y25TPuCYuuM"
    },
    {
      "cell_type": "markdown",
      "metadata": {
        "id": "0N2v-ZhyYuuV"
      },
      "source": [
        "**Attribution**:\n",
        "\n",
        "-   Parts of this notebook are adapted from a [tutorial from CS231N at\n",
        "    Stanford\n",
        "    University](https://cs231n.github.io/python-numpy-tutorial/), which\n",
        "    is shared under the [MIT\n",
        "    license]((https://opensource.org/licenses/MIT)).\n",
        "-   Parts of this notebook are adapted from Jake VanderPlas’s [Whirlwind\n",
        "    Tour of\n",
        "    Python](https://colab.research.google.com/github/jakevdp/WhirlwindTourOfPython/blob/master/Index.ipynb),\n",
        "    which is shared under the [Creative Commons CC0 Public Domain\n",
        "    Dedication\n",
        "    license](https://github.com/jakevdp/WhirlwindTourOfPython/blob/master/LICENSE).\n",
        "-   The visualizations in this notebook are from [A Visual Intro to\n",
        "    NumPy](http://jalammar.github.io/visual-numpy/) by Jay Alammar,\n",
        "    which is licensed under a Creative Commons\n",
        "    Attribution-NonCommercial-ShareAlike 4.0 International License."
      ],
      "id": "0N2v-ZhyYuuV"
    },
    {
      "cell_type": "markdown",
      "metadata": {
        "id": "CzPHZSz9YuuX"
      },
      "source": [
        "Introduction\n",
        "------------"
      ],
      "id": "CzPHZSz9YuuX"
    },
    {
      "cell_type": "markdown",
      "metadata": {
        "id": "csxKO89yYuuY"
      },
      "source": [
        "Python is a great general-purpose programming language on its own, but\n",
        "with the help of a few popular *libraries* (`numpy`, `pandas`,\n",
        "`matplotlib`) it becomes a powerful environment for scientific\n",
        "computing."
      ],
      "id": "csxKO89yYuuY"
    },
    {
      "cell_type": "markdown",
      "metadata": {
        "id": "BllO7G_pYuuY"
      },
      "source": [
        "This tutorial is an introduction to Python and the `numpy` library for\n",
        "those who are already familiar with programming in another language.\n",
        "\n",
        "In this tutorial, we will cover:\n",
        "\n",
        "-   Basic Python: Basic data types, Containers (Lists, Dictionaries,,\n",
        "    Tuples), Control Flow Statements, Errors and Exceptions, Functions,\n",
        "    Classes\n",
        "-   `numpy`: Arrays, Array indexing, Datatypes, Array math, Broadcasting\n",
        "-   `matplotlib`: Basic Visualization, Subplots, Image Visualization"
      ],
      "id": "BllO7G_pYuuY"
    },
    {
      "cell_type": "markdown",
      "metadata": {
        "id": "sAPwXIamYuuZ"
      },
      "source": [
        "This tutorial is designed to run as a Python notebook on Colab. We’ll\n",
        "take a closer look at Colab and its features in a separate tutorial, but\n",
        "for now, here is what you need to know:\n",
        "\n",
        "-   When you see a “cell” with Python code in it, move your mouse over\n",
        "    the margin on the left side of the cell. A \\> button will appear -\n",
        "    click on that button to execute the code in the cell.\n",
        "-   The output of the code will appear underneath the cell.\n",
        "-   You can edit the code in the cell and press the \\> button again to\n",
        "    execute the modified code.\n",
        "\n",
        "As you work through this tutorial, look at the code in each cell, and\n",
        "try to predict its output before you run it! Then, run the cell and\n",
        "check your understanding. You can also try to modify the code and\n",
        "observe the effect of your changes."
      ],
      "id": "sAPwXIamYuuZ"
    },
    {
      "cell_type": "markdown",
      "metadata": {
        "id": "7sOl4GmhYuua"
      },
      "source": [
        "A Brief Note on Python Versions\n",
        "-------------------------------\n",
        "\n",
        "As of Janurary 1, 2020, Python has [officially dropped\n",
        "support](https://www.python.org/doc/sunset-python-2/) for `python2`.\n",
        "We’ll be using Python 3 for this course."
      ],
      "id": "7sOl4GmhYuua"
    },
    {
      "cell_type": "markdown",
      "metadata": {
        "id": "b1aEhdi1Yuuc"
      },
      "source": [
        "Basics of Python\n",
        "----------------"
      ],
      "id": "b1aEhdi1Yuuc"
    },
    {
      "cell_type": "markdown",
      "metadata": {
        "id": "cbqOew1cYuue"
      },
      "source": [
        "Python is a high-level, dynamically typed multiparadigm programming\n",
        "language. Python code is often said to be almost like pseudocode, since\n",
        "it allows you to express very powerful ideas in very few lines of code\n",
        "while being very readable. As an example, here is an implementation of\n",
        "the classic quicksort algorithm in Python:"
      ],
      "id": "cbqOew1cYuue"
    },
    {
      "cell_type": "code",
      "metadata": {
        "id": "dRCQesF-Yuuf"
      },
      "source": [
        "def quicksort(arr):\n",
        "    if len(arr) <= 1:\n",
        "        return arr\n",
        "    pivot = arr[len(arr) // 2]\n",
        "    left = [x for x in arr if x < pivot]\n",
        "    middle = [x for x in arr if x == pivot]\n",
        "    right = [x for x in arr if x > pivot]\n",
        "    return quicksort(left) + middle + quicksort(right)\n",
        "\n",
        "print(quicksort([3,6,8,10,1,2,1]))"
      ],
      "id": "dRCQesF-Yuuf",
      "execution_count": null,
      "outputs": []
    },
    {
      "cell_type": "markdown",
      "metadata": {
        "id": "qGLLAbpcYuuh"
      },
      "source": [
        "### Basic data types"
      ],
      "id": "qGLLAbpcYuuh"
    },
    {
      "cell_type": "markdown",
      "metadata": {
        "id": "QL2M20kUYuui"
      },
      "source": [
        "#### Numbers"
      ],
      "id": "QL2M20kUYuui"
    },
    {
      "cell_type": "markdown",
      "metadata": {
        "id": "1iXfDHTuYuuj"
      },
      "source": [
        "Integers and floats work as you would expect from other languages:"
      ],
      "id": "1iXfDHTuYuuj"
    },
    {
      "cell_type": "code",
      "metadata": {
        "id": "s4IhpVRvYuuj"
      },
      "source": [
        "x = 3\n",
        "print(x, type(x))"
      ],
      "id": "s4IhpVRvYuuj",
      "execution_count": null,
      "outputs": []
    },
    {
      "cell_type": "markdown",
      "metadata": {
        "id": "UfigP7_xYuuk"
      },
      "source": [
        "By the way: note that you did not have to declare the variable `x` or\n",
        "specify its type before you assigned a value to it. In Python, you can\n",
        "create a variable just by assigning something to it."
      ],
      "id": "UfigP7_xYuuk"
    },
    {
      "cell_type": "code",
      "metadata": {
        "id": "xY6ai5z3Yuuk"
      },
      "source": [
        "print(x + 1)   # Addition\n",
        "print(x - 1)   # Subtraction\n",
        "print(x * 2)   # Multiplication\n",
        "print(x ** 2)  # Exponentiation"
      ],
      "id": "xY6ai5z3Yuuk",
      "execution_count": null,
      "outputs": []
    },
    {
      "cell_type": "markdown",
      "metadata": {
        "id": "FE1iHRXEYuul"
      },
      "source": [
        "Notice that in the cell above, there is a comment at the end of each\n",
        "line. Comments in Python are indicated by a pound sign (`#`), and\n",
        "anything on the line following the pound sign is ignored. You can have\n",
        "inline comments that follow a statement on the same line, like the ones\n",
        "above, or a comment on its own line."
      ],
      "id": "FE1iHRXEYuul"
    },
    {
      "cell_type": "code",
      "metadata": {
        "id": "cEZrlfW4Yuul"
      },
      "source": [
        "x += 1\n",
        "print(x)\n",
        "x *= 2\n",
        "print(x)"
      ],
      "id": "cEZrlfW4Yuul",
      "execution_count": null,
      "outputs": []
    },
    {
      "cell_type": "code",
      "metadata": {
        "id": "bm1Z-CiUYuum"
      },
      "source": [
        "y = 2.5\n",
        "print(type(y))\n",
        "print(y, y + 1, y * 2, y ** 2)"
      ],
      "id": "bm1Z-CiUYuum",
      "execution_count": null,
      "outputs": []
    },
    {
      "cell_type": "markdown",
      "metadata": {
        "id": "z7_I-XNLYuum"
      },
      "source": [
        "Note that unlike many languages, Python does not have unary increment\n",
        "(x++) or decrement (x--) operators.\n",
        "\n",
        "Python also has built-in types for long integers and complex numbers;\n",
        "you can find all of the details in the\n",
        "[documentation](https://docs.python.org/3.7/library/stdtypes.html#numeric-types-int-float-long-complex)."
      ],
      "id": "z7_I-XNLYuum"
    },
    {
      "cell_type": "markdown",
      "metadata": {
        "id": "4tu67GSCYuun"
      },
      "source": [
        "#### Booleans"
      ],
      "id": "4tu67GSCYuun"
    },
    {
      "cell_type": "markdown",
      "metadata": {
        "id": "I69bo2rsYuun"
      },
      "source": [
        "Python implements all of the usual operators for Boolean logic, but uses\n",
        "English words rather than symbols (`&&`, `||`, etc.):"
      ],
      "id": "I69bo2rsYuun"
    },
    {
      "cell_type": "code",
      "metadata": {
        "id": "bcOIr_N8Yuun"
      },
      "source": [
        "t, f = True, False\n",
        "print(type(t))"
      ],
      "id": "bcOIr_N8Yuun",
      "execution_count": null,
      "outputs": []
    },
    {
      "cell_type": "markdown",
      "metadata": {
        "id": "VlWokcn9Yuuo"
      },
      "source": [
        "Now let's look at the operations:"
      ],
      "id": "VlWokcn9Yuuo"
    },
    {
      "cell_type": "code",
      "metadata": {
        "id": "glvwbYl9Yuuo"
      },
      "source": [
        "print(t and f) # Logical AND;\n",
        "print(t or f)  # Logical OR;\n",
        "print(not t)   # Logical NOT;\n",
        "print(t != f)  # Logical XOR;"
      ],
      "id": "glvwbYl9Yuuo",
      "execution_count": null,
      "outputs": []
    },
    {
      "cell_type": "markdown",
      "metadata": {
        "id": "xPN_HkPtYuuo"
      },
      "source": [
        "#### Strings"
      ],
      "id": "xPN_HkPtYuuo"
    },
    {
      "cell_type": "code",
      "metadata": {
        "id": "t0HEolCfYuuo"
      },
      "source": [
        "hello = 'hello'   # String literals can use single quotes\n",
        "world = \"world\"   # or double quotes; it does not matter\n",
        "print(hello, len(hello))"
      ],
      "id": "t0HEolCfYuuo",
      "execution_count": null,
      "outputs": []
    },
    {
      "cell_type": "code",
      "metadata": {
        "id": "cocIufLxYuuo"
      },
      "source": [
        "hw = hello + ' ' + world  # String concatenation\n",
        "print(hw)"
      ],
      "id": "cocIufLxYuuo",
      "execution_count": null,
      "outputs": []
    },
    {
      "cell_type": "code",
      "metadata": {
        "id": "u2Do_PtKYuup"
      },
      "source": [
        "hw12 = '{} {} {}'.format(hello, world, 12)  # string formatting\n",
        "print(hw12)"
      ],
      "id": "u2Do_PtKYuup",
      "execution_count": null,
      "outputs": []
    },
    {
      "cell_type": "markdown",
      "metadata": {
        "id": "NuVyfuH1Yuup"
      },
      "source": [
        "String objects have a bunch of useful methods; for example:"
      ],
      "id": "NuVyfuH1Yuup"
    },
    {
      "cell_type": "code",
      "metadata": {
        "id": "DMGpqbzWYuup"
      },
      "source": [
        "s = \"hello\"\n",
        "print(s.capitalize())  # Capitalize a string\n",
        "print(s.upper())       # Convert a string to uppercase; prints \"HELLO\"\n",
        "print(s.rjust(7))      # Right-justify a string, padding with spaces\n",
        "print(s.center(7))     # Center a string, padding with spaces\n",
        "print(s.replace('l', '(ell)'))  # Replace all instances of one substring with another\n",
        "print('  world '.strip())  # Strip leading and trailing whitespace"
      ],
      "id": "DMGpqbzWYuup",
      "execution_count": null,
      "outputs": []
    },
    {
      "cell_type": "markdown",
      "metadata": {
        "id": "q__YGGMQYuuq"
      },
      "source": [
        "You can find a list of all string methods in the\n",
        "[documentation](https://docs.python.org/3.7/library/stdtypes.html#string-methods)."
      ],
      "id": "q__YGGMQYuuq"
    },
    {
      "cell_type": "markdown",
      "metadata": {
        "id": "xtJgN2LGYuuq"
      },
      "source": [
        "### Containers"
      ],
      "id": "xtJgN2LGYuuq"
    },
    {
      "cell_type": "markdown",
      "metadata": {
        "id": "cpUzWbbfYuuq"
      },
      "source": [
        "Python includes several built-in container types: lists, dictionaries,\n",
        "sets, and tuples."
      ],
      "id": "cpUzWbbfYuuq"
    },
    {
      "cell_type": "markdown",
      "metadata": {
        "id": "oYxw9LUCYuuq"
      },
      "source": [
        "#### Lists"
      ],
      "id": "oYxw9LUCYuuq"
    },
    {
      "cell_type": "markdown",
      "metadata": {
        "id": "HRVxnb5eYuuq"
      },
      "source": [
        "A list is the Python equivalent of an array, but is resizeable and can\n",
        "contain elements of different types:"
      ],
      "id": "HRVxnb5eYuuq"
    },
    {
      "cell_type": "code",
      "metadata": {
        "id": "vqhjDzH3Yuur"
      },
      "source": [
        "xs = [3, 1, 2]   # Create a list\n",
        "print(xs, xs[2])\n",
        "print(xs[-1])     # Negative indices count from the end of the list; prints \"2\""
      ],
      "id": "vqhjDzH3Yuur",
      "execution_count": null,
      "outputs": []
    },
    {
      "cell_type": "code",
      "metadata": {
        "id": "rvnOOcGZYuur"
      },
      "source": [
        "xs[2] = 'foo'    # Lists can contain elements of different types\n",
        "print(xs)"
      ],
      "id": "rvnOOcGZYuur",
      "execution_count": null,
      "outputs": []
    },
    {
      "cell_type": "code",
      "metadata": {
        "id": "1PJDEA7aYuus"
      },
      "source": [
        "xs.append('bar') # Add a new element to the end of the list\n",
        "print(xs)  "
      ],
      "id": "1PJDEA7aYuus",
      "execution_count": null,
      "outputs": []
    },
    {
      "cell_type": "code",
      "metadata": {
        "id": "vIsHk7-rYuus"
      },
      "source": [
        "x = xs.pop()     # Remove and return the last element of the list\n",
        "print(x, xs)"
      ],
      "id": "vIsHk7-rYuus",
      "execution_count": null,
      "outputs": []
    },
    {
      "cell_type": "markdown",
      "metadata": {
        "id": "NKaO3KfDYuut"
      },
      "source": [
        "As usual, you can find all the gory details about lists in the\n",
        "[documentation](https://docs.python.org/3.7/tutorial/datastructures.html#more-on-lists)."
      ],
      "id": "NKaO3KfDYuut"
    },
    {
      "cell_type": "markdown",
      "metadata": {
        "id": "75oYRwdhYuut"
      },
      "source": [
        "#### Slicing"
      ],
      "id": "75oYRwdhYuut"
    },
    {
      "cell_type": "markdown",
      "metadata": {
        "id": "mQaw1vEgYuuu"
      },
      "source": [
        "In addition to accessing list elements one at a time, Python provides\n",
        "concise syntax to access sublists; this is known as slicing:"
      ],
      "id": "mQaw1vEgYuuu"
    },
    {
      "cell_type": "code",
      "metadata": {
        "id": "vnDHZiNZYuuu"
      },
      "source": [
        "nums = list(range(5))    # range is a built-in function that creates a list of integers\n",
        "print(nums)         # Prints \"[0, 1, 2, 3, 4]\"\n",
        "print(nums[2:4])    # Get a slice from index 2 to 4 (exclusive); prints \"[2, 3]\"\n",
        "print(nums[2:])     # Get a slice from index 2 to the end; prints \"[2, 3, 4]\"\n",
        "print(nums[:2])     # Get a slice from the start to index 2 (exclusive); prints \"[0, 1]\"\n",
        "print(nums[:])      # Get a slice of the whole list; prints [\"0, 1, 2, 3, 4]\"\n",
        "print(nums[:-1])    # Slice indices can be negative; prints [\"0, 1, 2, 3]\"\n",
        "nums[2:4] = [8, 9] # Assign a new sublist to a slice\n",
        "print(nums)         # Prints \"[0, 1, 8, 9, 4]\""
      ],
      "id": "vnDHZiNZYuuu",
      "execution_count": null,
      "outputs": []
    },
    {
      "cell_type": "markdown",
      "metadata": {
        "id": "HAKr7isaYuuu"
      },
      "source": [
        "#### Dictionaries"
      ],
      "id": "HAKr7isaYuuu"
    },
    {
      "cell_type": "markdown",
      "metadata": {
        "id": "gWu8Uh2QYuuv"
      },
      "source": [
        "A dictionary stores (key, value) pairs, similar to a `Map` in Java or an\n",
        "object in Javascript. You can use it like this:"
      ],
      "id": "gWu8Uh2QYuuv"
    },
    {
      "cell_type": "code",
      "metadata": {
        "id": "1OG3u9yrYuuv"
      },
      "source": [
        "d = {'cat': 'cute', 'dog': 'furry'}  # Create a new dictionary with some data\n",
        "print(d['cat'])       # Get an entry from a dictionary; prints \"cute\"\n",
        "print('cat' in d)     # Check if a dictionary has a given key; prints \"True\""
      ],
      "id": "1OG3u9yrYuuv",
      "execution_count": null,
      "outputs": []
    },
    {
      "cell_type": "code",
      "metadata": {
        "id": "zCcLL0A8Yuuv"
      },
      "source": [
        "d['fish'] = 'wet'    # Set an entry in a dictionary\n",
        "print(d['fish'])      # Prints \"wet\""
      ],
      "id": "zCcLL0A8Yuuv",
      "execution_count": null,
      "outputs": []
    },
    {
      "cell_type": "code",
      "metadata": {
        "id": "WKgIkMBKYuuw"
      },
      "source": [
        "# note: this cell will raise an error\n",
        "print(d['monkey'])  # KeyError: 'monkey' not a key of d"
      ],
      "id": "WKgIkMBKYuuw",
      "execution_count": null,
      "outputs": []
    },
    {
      "cell_type": "code",
      "metadata": {
        "id": "9EgnjKB7Yuuw"
      },
      "source": [
        "print(d.get('monkey', 'N/A'))  # Get an element with a default; prints \"N/A\"\n",
        "print(d.get('fish', 'N/A'))    # Get an element with a default; prints \"wet\""
      ],
      "id": "9EgnjKB7Yuuw",
      "execution_count": null,
      "outputs": []
    },
    {
      "cell_type": "code",
      "metadata": {
        "id": "OKk3yIhbYuuw"
      },
      "source": [
        "del d['fish']        # Remove an element from a dictionary\n",
        "print(d.get('fish', 'N/A')) # \"fish\" is no longer a key; prints \"N/A\""
      ],
      "id": "OKk3yIhbYuuw",
      "execution_count": null,
      "outputs": []
    },
    {
      "cell_type": "markdown",
      "metadata": {
        "id": "e-TtwIjSYuuw"
      },
      "source": [
        "You can find all you need to know about dictionaries in the\n",
        "[documentation](https://docs.python.org/2/library/stdtypes.html#dict)."
      ],
      "id": "e-TtwIjSYuuw"
    },
    {
      "cell_type": "markdown",
      "metadata": {
        "id": "sypdeBPvYuuw"
      },
      "source": [
        "#### Tuples"
      ],
      "id": "sypdeBPvYuuw"
    },
    {
      "cell_type": "markdown",
      "metadata": {
        "id": "rHmV0u2-Yuux"
      },
      "source": [
        "A tuple is an (immutable) ordered list of values. A tuple is in many\n",
        "ways similar to a list; one of the most important differences is that\n",
        "tuples can be used as keys in dictionaries and as elements of sets,\n",
        "while lists cannot. Here is a trivial example:"
      ],
      "id": "rHmV0u2-Yuux"
    },
    {
      "cell_type": "code",
      "metadata": {
        "id": "WUmTB0DaYuux"
      },
      "source": [
        "d = {(x, x + 1): x for x in range(10)}  # Create a dictionary with tuple keys\n",
        "t = (5, 6)       # Create a tuple\n",
        "print(type(t))\n",
        "print(d[t])       \n",
        "\n",
        "print(d[(1, 2)])"
      ],
      "id": "WUmTB0DaYuux",
      "execution_count": null,
      "outputs": []
    },
    {
      "cell_type": "code",
      "metadata": {
        "id": "FBOQXbahYuux"
      },
      "source": [
        "d[0] = 100 # you can change a value in the dictionary...\n",
        "print(d)"
      ],
      "id": "FBOQXbahYuux",
      "execution_count": null,
      "outputs": []
    },
    {
      "cell_type": "code",
      "metadata": {
        "id": "sVjfObuXYuux"
      },
      "source": [
        "t[0] = 1 # ...but not a value in the tuple\n",
        "# this cell raises an error! 'tuple' object does not support item assignment"
      ],
      "id": "sVjfObuXYuux",
      "execution_count": null,
      "outputs": []
    },
    {
      "cell_type": "markdown",
      "metadata": {
        "id": "_2W4T9uuYuuy"
      },
      "source": [
        "### Control Flow Statements"
      ],
      "id": "_2W4T9uuYuuy"
    },
    {
      "cell_type": "markdown",
      "metadata": {
        "id": "zT0KgJXxYuuy"
      },
      "source": [
        "#### If-Else\n",
        "\n",
        "Conditional statements, often referred to as *if-then* statements, allow\n",
        "the programmer to execute certain pieces of code depending on some\n",
        "Boolean condition.\n",
        "\n",
        "A basic example of a Python conditional statement is this:"
      ],
      "id": "zT0KgJXxYuuy"
    },
    {
      "cell_type": "code",
      "metadata": {
        "id": "c2b_O0OPYuuy"
      },
      "source": [
        "\n",
        "x = -15\n",
        "\n",
        "if x == 0:\n",
        "    print(x, \"is zero\")\n",
        "elif x > 0:\n",
        "    print(x, \"is positive\")\n",
        "elif x < 0:\n",
        "    print(x, \"is negative\")\n",
        "else:\n",
        "    print(x, \"is unlike anything I've ever seen...\")"
      ],
      "id": "c2b_O0OPYuuy",
      "execution_count": null,
      "outputs": []
    },
    {
      "cell_type": "markdown",
      "metadata": {
        "id": "u63QL_4PYuuy"
      },
      "source": [
        "Note especially the use of colons (`:`) and whitespace to denote\n",
        "separate blocks of code.\n",
        "\n",
        "A *block* of code is a set of statements that should be treated as a\n",
        "unit. In C, for example, code blocks are denoted by curly braces:\n",
        "\n",
        "``` c\n",
        "// C code\n",
        "for(int i=0; i<100; i++)\n",
        "   {\n",
        "      // curly braces indicate code block\n",
        "      total += i;\n",
        "   }\n",
        "```\n",
        "\n",
        "In Python, code blocks are denoted by *indentation*:\n",
        "\n",
        "``` python\n",
        "for i in range(100):\n",
        "    # indentation indicates code block\n",
        "    total += i\n",
        "```\n",
        "\n",
        "where all statements that should be evaluated within the “block” are at\n",
        "the same level of indentation.\n",
        "\n",
        "Indented code blocks are always preceded by a colon (`:`) on the\n",
        "previous line."
      ],
      "id": "u63QL_4PYuuy"
    },
    {
      "cell_type": "markdown",
      "metadata": {
        "id": "-9ivWb_cYuuy"
      },
      "source": [
        "#### For\n",
        "\n",
        "Loops in Python are a way to repeatedly execute some code statement. So,\n",
        "for example, if we’d like to print each of the items in a list, we can\n",
        "use a `for` loop:"
      ],
      "id": "-9ivWb_cYuuy"
    },
    {
      "cell_type": "code",
      "metadata": {
        "id": "yeD57G_OYuuz"
      },
      "source": [
        "for N in [2, 3, 5, 7]:\n",
        "    print(N, end=' ') # print all on same line"
      ],
      "id": "yeD57G_OYuuz",
      "execution_count": null,
      "outputs": []
    },
    {
      "cell_type": "markdown",
      "metadata": {
        "id": "_etXhfX0Yuuz"
      },
      "source": [
        "Notice the simplicity of the `for` loop: we specify the variable we want\n",
        "to use, the sequence we want to loop over, and use the “`in`” operator\n",
        "to link them together in an intuitive and readable way. More precisely,\n",
        "the object to the right of the “`in`” can be any Python *iterator*.\n",
        "\n",
        "For example, one of the most commonly-used iterators in Python is the\n",
        "`range` object, which generates a sequence of numbers:"
      ],
      "id": "_etXhfX0Yuuz"
    },
    {
      "cell_type": "code",
      "metadata": {
        "id": "VMHRyjgSYuuz"
      },
      "source": [
        "for i in range(10):\n",
        "    print(i, end=' ')"
      ],
      "id": "VMHRyjgSYuuz",
      "execution_count": null,
      "outputs": []
    },
    {
      "cell_type": "markdown",
      "metadata": {
        "id": "L0S0OkqsYuuz"
      },
      "source": [
        "Note that the range starts at zero by default, and that by convention\n",
        "the top of the range is not included in the output."
      ],
      "id": "L0S0OkqsYuuz"
    },
    {
      "cell_type": "markdown",
      "metadata": {
        "id": "owQBvm8hYuu0"
      },
      "source": [
        "We can loop over any list, no matter what type of object is stored in\n",
        "it."
      ],
      "id": "owQBvm8hYuu0"
    },
    {
      "cell_type": "code",
      "metadata": {
        "id": "ChXopKMZYuu0"
      },
      "source": [
        "animals = ['cat', 'dog', 'monkey']\n",
        "for animal in animals:\n",
        "    print(animal)"
      ],
      "id": "ChXopKMZYuu0",
      "execution_count": null,
      "outputs": []
    },
    {
      "cell_type": "markdown",
      "metadata": {
        "id": "jHVPQTujYuu0"
      },
      "source": [
        "If you want access to the index of each element within the body of a\n",
        "loop, use the built-in `enumerate` function:"
      ],
      "id": "jHVPQTujYuu0"
    },
    {
      "cell_type": "code",
      "metadata": {
        "id": "Ha6OcAT-Yuu0"
      },
      "source": [
        "animals = ['cat', 'dog', 'monkey']\n",
        "for idx, animal in enumerate(animals):\n",
        "    print('#{}: {}'.format(idx + 1, animal))"
      ],
      "id": "Ha6OcAT-Yuu0",
      "execution_count": null,
      "outputs": []
    },
    {
      "cell_type": "markdown",
      "metadata": {
        "id": "2sh2rMu5Yuu0"
      },
      "source": [
        "It is easy to iterate over the keys in a dictionary:"
      ],
      "id": "2sh2rMu5Yuu0"
    },
    {
      "cell_type": "code",
      "metadata": {
        "id": "6OjR6ajeYuu0"
      },
      "source": [
        "d = {'person': 2, 'cat': 4, 'spider': 8}\n",
        "for animal, legs in d.items():\n",
        "    print('A {} has {} legs'.format(animal, legs))"
      ],
      "id": "6OjR6ajeYuu0",
      "execution_count": null,
      "outputs": []
    },
    {
      "cell_type": "markdown",
      "metadata": {
        "id": "0MUWRacRYuu1"
      },
      "source": [
        "#### While\n",
        "\n",
        "The other type of loop in Python is a `while` loop, which iterates until\n",
        "some condition is met:"
      ],
      "id": "0MUWRacRYuu1"
    },
    {
      "cell_type": "code",
      "metadata": {
        "id": "vdBqHtlGYuu1"
      },
      "source": [
        "i = 0\n",
        "while i < 10:\n",
        "    print(i, end=' ')\n",
        "    i += 1"
      ],
      "id": "vdBqHtlGYuu1",
      "execution_count": null,
      "outputs": []
    },
    {
      "cell_type": "markdown",
      "metadata": {
        "id": "Sq4-7qtAYuu1"
      },
      "source": [
        "#### List comprehensions"
      ],
      "id": "Sq4-7qtAYuu1"
    },
    {
      "cell_type": "markdown",
      "metadata": {
        "id": "LRRYlOPzYuu1"
      },
      "source": [
        "When programming, frequently we want to transform one type of data into\n",
        "another. As a simple example, consider the following code that computes\n",
        "square numbers:"
      ],
      "id": "LRRYlOPzYuu1"
    },
    {
      "cell_type": "code",
      "metadata": {
        "id": "mGroWrHAYuu1"
      },
      "source": [
        "nums = [0, 1, 2, 3, 4]\n",
        "squares = []\n",
        "for x in nums:\n",
        "    squares.append(x ** 2)\n",
        "print(squares)"
      ],
      "id": "mGroWrHAYuu1",
      "execution_count": null,
      "outputs": []
    },
    {
      "cell_type": "markdown",
      "metadata": {
        "id": "uIwHVGfQYuu2"
      },
      "source": [
        "You can make this code simpler using a list comprehension:"
      ],
      "id": "uIwHVGfQYuu2"
    },
    {
      "cell_type": "code",
      "metadata": {
        "id": "2zJK7mW7Yuu2"
      },
      "source": [
        "nums = [0, 1, 2, 3, 4]\n",
        "squares = [x ** 2 for x in nums]\n",
        "print(squares)"
      ],
      "id": "2zJK7mW7Yuu2",
      "execution_count": null,
      "outputs": []
    },
    {
      "cell_type": "markdown",
      "metadata": {
        "id": "roQOg9gTYuu2"
      },
      "source": [
        "List comprehensions can also contain conditions:"
      ],
      "id": "roQOg9gTYuu2"
    },
    {
      "cell_type": "code",
      "metadata": {
        "id": "e6JPVwCKYuu2"
      },
      "source": [
        "nums = [0, 1, 2, 3, 4]\n",
        "even_squares = [x ** 2 for x in nums if x % 2 == 0]\n",
        "print(even_squares)"
      ],
      "id": "e6JPVwCKYuu2",
      "execution_count": null,
      "outputs": []
    },
    {
      "cell_type": "markdown",
      "metadata": {
        "id": "Z8JdMrHNYuu2"
      },
      "source": [
        "Dictionary comprehensions are similar to list comprehensions, but allow\n",
        "you to easily construct dictionaries. For example:"
      ],
      "id": "Z8JdMrHNYuu2"
    },
    {
      "cell_type": "code",
      "metadata": {
        "id": "1Vb1WhGoYuu2"
      },
      "source": [
        "nums = [0, 1, 2, 3, 4]\n",
        "even_num_to_square = {x: x ** 2 for x in nums if x % 2 == 0}\n",
        "print(even_num_to_square)"
      ],
      "id": "1Vb1WhGoYuu2",
      "execution_count": null,
      "outputs": []
    },
    {
      "cell_type": "markdown",
      "metadata": {
        "id": "mkE1UrW1Yuu3"
      },
      "source": [
        "### Errors and Exceptions"
      ],
      "id": "mkE1UrW1Yuu3"
    },
    {
      "cell_type": "markdown",
      "metadata": {
        "id": "e38V0zjEYuu3"
      },
      "source": [
        "When you are working with Python, you are likely to come across errors.\n",
        "When an error occurs, Python tries to explain to you what went wrong,\n",
        "but it takes some experience to interpret the error messages."
      ],
      "id": "e38V0zjEYuu3"
    },
    {
      "cell_type": "markdown",
      "metadata": {
        "id": "wJFgkUlOYuu3"
      },
      "source": [
        "The code in the following cell will raise a `SyntaxError` because it\n",
        "tries to use a variable name that begins with a number, which is not\n",
        "allowed in Python.\n",
        "\n",
        "Run the code, and look for three key “ingredients” in the error message\n",
        "that is printed to the output:\n",
        "\n",
        "-   the type of error. In this case, it will be a `SyntaxError`. This\n",
        "    type of error is raised by the *parser*, which checks to see if the\n",
        "    code is valid before passing it to the *runtime* to execute the\n",
        "    code.\n",
        "-   an explanation of the error, if available. In this case, the\n",
        "    explanation is “invalid syntax”.\n",
        "-   details about where the error was detected. At what line of code,\n",
        "    and what point in the line, did the error occur?"
      ],
      "id": "wJFgkUlOYuu3"
    },
    {
      "cell_type": "code",
      "metadata": {
        "id": "Bi12SfhbYuu4"
      },
      "source": [
        "1st_number = 1"
      ],
      "id": "Bi12SfhbYuu4",
      "execution_count": null,
      "outputs": []
    },
    {
      "cell_type": "markdown",
      "metadata": {
        "id": "oO-w5SOwYuu4"
      },
      "source": [
        "Here are some more examples. Run the following cells, one at a time.\n",
        "Each will trigger an error message. Try to parse the error message by\n",
        "looking for the three “ingredients”.\n",
        "\n",
        "Look up each error type in [the\n",
        "documentation](https://docs.python.org/3/library/exceptions.html). Under\n",
        "what conditions is this error raised?"
      ],
      "id": "oO-w5SOwYuu4"
    },
    {
      "cell_type": "code",
      "metadata": {
        "id": "UflpK26EYuu4"
      },
      "source": [
        "x=0 \n",
        "x++"
      ],
      "id": "UflpK26EYuu4",
      "execution_count": null,
      "outputs": []
    },
    {
      "cell_type": "code",
      "metadata": {
        "id": "BhlS-SqLYuu5"
      },
      "source": [
        "x=0\n",
        " x=x+1"
      ],
      "id": "BhlS-SqLYuu5",
      "execution_count": null,
      "outputs": []
    },
    {
      "cell_type": "code",
      "metadata": {
        "id": "ClY4k2pZYuu5"
      },
      "source": [
        "print('Hello'"
      ],
      "id": "ClY4k2pZYuu5",
      "execution_count": null,
      "outputs": []
    },
    {
      "cell_type": "code",
      "metadata": {
        "id": "qbXQEx3YYuu6"
      },
      "source": [
        "1 + 'asdf'"
      ],
      "id": "qbXQEx3YYuu6",
      "execution_count": null,
      "outputs": []
    },
    {
      "cell_type": "code",
      "metadata": {
        "id": "zUxQHgNjYuu6"
      },
      "source": [
        "import NoSuchLibrary"
      ],
      "id": "zUxQHgNjYuu6",
      "execution_count": null,
      "outputs": []
    },
    {
      "cell_type": "code",
      "metadata": {
        "id": "yLHGMhEuYuu6"
      },
      "source": [
        "print(xyz)"
      ],
      "id": "yLHGMhEuYuu6",
      "execution_count": null,
      "outputs": []
    },
    {
      "cell_type": "code",
      "metadata": {
        "id": "qw9BKReBYuu7"
      },
      "source": [
        "x=0 \n",
        "5/x"
      ],
      "id": "qw9BKReBYuu7",
      "execution_count": null,
      "outputs": []
    },
    {
      "cell_type": "markdown",
      "metadata": {
        "id": "Hqwa6ntrYuu7"
      },
      "source": [
        "### Functions"
      ],
      "id": "Hqwa6ntrYuu7"
    },
    {
      "cell_type": "markdown",
      "metadata": {
        "id": "Uh3cj2_3Yuu7"
      },
      "source": [
        "Python functions are defined using the `def` keyword. For example:"
      ],
      "id": "Uh3cj2_3Yuu7"
    },
    {
      "cell_type": "code",
      "metadata": {
        "id": "Pe8X00RRYuvE"
      },
      "source": [
        "def sign(x):\n",
        "    if x > 0:\n",
        "        return 'positive'\n",
        "    elif x < 0:\n",
        "        return 'negative'\n",
        "    else:\n",
        "        return 'zero'\n",
        "\n",
        "for x in [-1, 0, 1]:\n",
        "    print(sign(x))"
      ],
      "id": "Pe8X00RRYuvE",
      "execution_count": null,
      "outputs": []
    },
    {
      "cell_type": "markdown",
      "metadata": {
        "id": "K4h0O-ooYuvF"
      },
      "source": [
        "We will often define functions to take optional keyword arguments, like\n",
        "this:"
      ],
      "id": "K4h0O-ooYuvF"
    },
    {
      "cell_type": "code",
      "metadata": {
        "id": "xujuwU6pYuvG"
      },
      "source": [
        "def hello(name, loud=False):\n",
        "    if loud:\n",
        "        print('HELLO, {}'.format(name.upper()))\n",
        "    else:\n",
        "        print('Hello, {}!'.format(name))\n",
        "\n",
        "hello('Bob')\n",
        "hello('Fred', loud=True)"
      ],
      "id": "xujuwU6pYuvG",
      "execution_count": null,
      "outputs": []
    },
    {
      "cell_type": "markdown",
      "metadata": {
        "id": "4omCi2lSYuvG"
      },
      "source": [
        "### Classes"
      ],
      "id": "4omCi2lSYuvG"
    },
    {
      "cell_type": "markdown",
      "metadata": {
        "id": "uHG8EOlnYuvG"
      },
      "source": [
        "The syntax for defining classes in Python is straightforward:"
      ],
      "id": "uHG8EOlnYuvG"
    },
    {
      "cell_type": "code",
      "metadata": {
        "id": "NKvivU56YuvH"
      },
      "source": [
        "class Greeter:\n",
        "\n",
        "    # Constructor\n",
        "    def __init__(self, name):\n",
        "        self.name = name  # Create an instance variable\n",
        "\n",
        "    # Instance method\n",
        "    def greet(self, loud=False):\n",
        "        if loud:\n",
        "          print('HELLO, {}'.format(self.name.upper()))\n",
        "        else:\n",
        "          print('Hello, {}!'.format(self.name))\n",
        "\n",
        "g = Greeter('Fred')  # Construct an instance of the Greeter class\n",
        "g.greet()            # Call an instance method; prints \"Hello, Fred\"\n",
        "g.greet(loud=True)   # Call an instance method; prints \"HELLO, FRED!\""
      ],
      "id": "NKvivU56YuvH",
      "execution_count": null,
      "outputs": []
    },
    {
      "cell_type": "markdown",
      "metadata": {
        "id": "ybHA9K1VYuvO"
      },
      "source": [
        "Numpy\n",
        "-----"
      ],
      "id": "ybHA9K1VYuvO"
    },
    {
      "cell_type": "markdown",
      "metadata": {
        "id": "k2aZKs7-YuvP"
      },
      "source": [
        "Numpy is the core library for scientific computing in Python. It\n",
        "provides a high-performance multidimensional array object, and tools for\n",
        "working with these arrays. If you are already familiar with MATLAB, you\n",
        "might find this [tutorial](http://wiki.scipy.org/NumPy_for_Matlab_Users)\n",
        "useful to get started with Numpy."
      ],
      "id": "k2aZKs7-YuvP"
    },
    {
      "cell_type": "markdown",
      "metadata": {
        "id": "skez3nMYYuvP"
      },
      "source": [
        "To use Numpy, we first need to import the `numpy` package. By\n",
        "convention, we import it using the alias `np`. Then, when we want to use\n",
        "modules or functions in this library, we preface them with `np.`"
      ],
      "id": "skez3nMYYuvP"
    },
    {
      "cell_type": "code",
      "metadata": {
        "id": "xCKFJbJqYuvQ"
      },
      "source": [
        "import numpy as np"
      ],
      "id": "xCKFJbJqYuvQ",
      "execution_count": null,
      "outputs": []
    },
    {
      "cell_type": "markdown",
      "metadata": {
        "id": "cFJ4vpCGYuvR"
      },
      "source": [
        "### Arrays"
      ],
      "id": "cFJ4vpCGYuvR"
    },
    {
      "cell_type": "markdown",
      "metadata": {
        "id": "0x8jew_hYuvR"
      },
      "source": [
        "A numpy array is a grid of values, all of the same type, and is indexed\n",
        "by a tuple of nonnegative integers. The number of dimensions is the rank\n",
        "of the array; the shape of an array is a tuple of integers giving the\n",
        "size of the array along each dimension."
      ],
      "id": "0x8jew_hYuvR"
    },
    {
      "cell_type": "markdown",
      "metadata": {
        "id": "9CV-zZ35YuvS"
      },
      "source": [
        "We can create a `numpy` array by passing a Python list to `np.array()`."
      ],
      "id": "9CV-zZ35YuvS"
    },
    {
      "cell_type": "code",
      "metadata": {
        "id": "rl2oVz9MYuvS"
      },
      "source": [
        "a = np.array([1, 2, 3])  # Create a rank 1 array"
      ],
      "id": "rl2oVz9MYuvS",
      "execution_count": null,
      "outputs": []
    },
    {
      "cell_type": "markdown",
      "metadata": {
        "id": "AdEndEHZYuvS"
      },
      "source": [
        "This creates the array we can see on the right here:\n",
        "\n",
        "![](http://jalammar.github.io/images/numpy/create-numpy-array-1.png)"
      ],
      "id": "AdEndEHZYuvS"
    },
    {
      "cell_type": "code",
      "metadata": {
        "id": "G1TyZ5zsYuvT"
      },
      "source": [
        "print(type(a), a.shape, a[0], a[1], a[2])\n",
        "a[0] = 5                 # Change an element of the array\n",
        "print(a)                  "
      ],
      "id": "G1TyZ5zsYuvT",
      "execution_count": null,
      "outputs": []
    },
    {
      "cell_type": "markdown",
      "metadata": {
        "id": "7WdbQCSeYuvT"
      },
      "source": [
        "To create a `numpy` array with more dimensions, we can pass nested\n",
        "lists, like this:\n",
        "\n",
        "![](http://jalammar.github.io/images/numpy/numpy-array-create-2d.png)\n",
        "\n",
        "![](http://jalammar.github.io/images/numpy/numpy-3d-array.png)"
      ],
      "id": "7WdbQCSeYuvT"
    },
    {
      "cell_type": "code",
      "metadata": {
        "id": "QJHlOvMKYuvU"
      },
      "source": [
        "b = np.array([[1,2],[3,4]])   # Create a rank 2 array\n",
        "print(b)"
      ],
      "id": "QJHlOvMKYuvU",
      "execution_count": null,
      "outputs": []
    },
    {
      "cell_type": "code",
      "metadata": {
        "id": "Kjzlm5M-YuvU"
      },
      "source": [
        "print(b.shape)"
      ],
      "id": "Kjzlm5M-YuvU",
      "execution_count": null,
      "outputs": []
    },
    {
      "cell_type": "markdown",
      "metadata": {
        "id": "t8ZlnDPMYuvU"
      },
      "source": [
        "There are often cases when we want numpy to initialize the values of the\n",
        "array for us. numpy provides methods like `ones()`, `zeros()`, and\n",
        "`random.random()` for these cases. We just pass them the number of\n",
        "elements we want it to generate:\n",
        "\n",
        "![](http://jalammar.github.io/images/numpy/create-numpy-array-ones-zeros-random.png)"
      ],
      "id": "t8ZlnDPMYuvU"
    },
    {
      "cell_type": "markdown",
      "metadata": {
        "id": "Afpmx9DMYuvU"
      },
      "source": [
        "We can also use these methods to produce multi-dimensional arrays, as\n",
        "long as we pass them a tuple describing the dimensions of the matrix we\n",
        "want to create:\n",
        "\n",
        "![](http://jalammar.github.io/images/numpy/numpy-matrix-ones-zeros-random.png)\n",
        "\n",
        "![](http://jalammar.github.io/images/numpy/numpy-3d-array-creation.png)"
      ],
      "id": "Afpmx9DMYuvU"
    },
    {
      "cell_type": "code",
      "metadata": {
        "id": "StvvjE2YYuvV"
      },
      "source": [
        "a = np.zeros((2,2))  # Create an array of all zeros\n",
        "print(a)"
      ],
      "id": "StvvjE2YYuvV",
      "execution_count": null,
      "outputs": []
    },
    {
      "cell_type": "code",
      "metadata": {
        "id": "OA4jfOPOYuvV"
      },
      "source": [
        "b = np.ones((1,2))   # Create an array of all ones\n",
        "print(b)"
      ],
      "id": "OA4jfOPOYuvV",
      "execution_count": null,
      "outputs": []
    },
    {
      "cell_type": "code",
      "metadata": {
        "id": "uLZOsX7bYuvV"
      },
      "source": [
        "c = np.full((2,2), 7) # Create a constant array\n",
        "print(c)"
      ],
      "id": "uLZOsX7bYuvV",
      "execution_count": null,
      "outputs": []
    },
    {
      "cell_type": "code",
      "metadata": {
        "id": "XJol76TZYuvW"
      },
      "source": [
        "d = np.eye(2)        # Create a 2x2 identity matrix\n",
        "print(d)"
      ],
      "id": "XJol76TZYuvW",
      "execution_count": null,
      "outputs": []
    },
    {
      "cell_type": "code",
      "metadata": {
        "id": "5fAGgg8fYuvW"
      },
      "source": [
        "e = np.random.random((2,2)) # Create an array filled with random values\n",
        "print(e)"
      ],
      "id": "5fAGgg8fYuvW",
      "execution_count": null,
      "outputs": []
    },
    {
      "cell_type": "markdown",
      "metadata": {
        "id": "T3x0Hq0rYuvW"
      },
      "source": [
        "### Array indexing"
      ],
      "id": "T3x0Hq0rYuvW"
    },
    {
      "cell_type": "markdown",
      "metadata": {
        "id": "A0XjLPGcYuvX"
      },
      "source": [
        "Numpy offers several ways to index into arrays."
      ],
      "id": "A0XjLPGcYuvX"
    },
    {
      "cell_type": "markdown",
      "metadata": {
        "id": "AoF5br5jYuvX"
      },
      "source": [
        "We can index and slice numpy arrays in all the ways we can slice Python\n",
        "lists:\n",
        "\n",
        "![](http://jalammar.github.io/images/numpy/numpy-array-slice.png)\n",
        "\n",
        "And you can index and slice numpy arrays in multiple dimensions. If\n",
        "slicing an array with more than one dimension, you should specify a\n",
        "slice for each dimension:\n",
        "\n",
        "![](http://jalammar.github.io/images/numpy/numpy-matrix-indexing.png)"
      ],
      "id": "AoF5br5jYuvX"
    },
    {
      "cell_type": "code",
      "metadata": {
        "id": "k3C0tCQEYuvX"
      },
      "source": [
        "# Create the following rank 2 array with shape (3, 4)\n",
        "# [[ 1  2  3  4]\n",
        "#  [ 5  6  7  8]\n",
        "#  [ 9 10 11 12]]\n",
        "a = np.array([[1,2,3,4], [5,6,7,8], [9,10,11,12]])\n",
        "\n",
        "# Use slicing to pull out the subarray consisting of the first 2 rows\n",
        "# and columns 1 and 2; b is the following array of shape (2, 2):\n",
        "# [[2 3]\n",
        "#  [6 7]]\n",
        "b = a[:2, 1:3]\n",
        "print(b)"
      ],
      "id": "k3C0tCQEYuvX",
      "execution_count": null,
      "outputs": []
    },
    {
      "cell_type": "markdown",
      "metadata": {
        "id": "ZWJe0jyGYuvY"
      },
      "source": [
        "A slice of an array is a view into the same data, so modifying it will\n",
        "modify the original array."
      ],
      "id": "ZWJe0jyGYuvY"
    },
    {
      "cell_type": "code",
      "metadata": {
        "id": "ZE4X4Sg0YuvY"
      },
      "source": [
        "print(a[0, 1])\n",
        "b[0, 0] = 77    # b[0, 0] is the same piece of data as a[0, 1]\n",
        "print(a[0, 1]) "
      ],
      "id": "ZE4X4Sg0YuvY",
      "execution_count": null,
      "outputs": []
    },
    {
      "cell_type": "markdown",
      "metadata": {
        "id": "THda6MNcYuvZ"
      },
      "source": [
        "You can also mix integer indexing with slice indexing. However, doing so\n",
        "will yield an array of lower rank than the original array. Note that\n",
        "this is quite different from the way that MATLAB handles array slicing:"
      ],
      "id": "THda6MNcYuvZ"
    },
    {
      "cell_type": "code",
      "metadata": {
        "id": "cT8NIbMNYuvZ"
      },
      "source": [
        "# Create the following rank 2 array with shape (3, 4)\n",
        "a = np.array([[1,2,3,4], [5,6,7,8], [9,10,11,12]])\n",
        "print(a)"
      ],
      "id": "cT8NIbMNYuvZ",
      "execution_count": null,
      "outputs": []
    },
    {
      "cell_type": "markdown",
      "metadata": {
        "id": "tBJq-63DYuvZ"
      },
      "source": [
        "Two ways of accessing the data in the middle row of the array. Mixing\n",
        "integer indexing with slices yields an array of lower rank, while using\n",
        "only slices yields an array of the same rank as the original array:"
      ],
      "id": "tBJq-63DYuvZ"
    },
    {
      "cell_type": "code",
      "metadata": {
        "id": "P9wGP8GAYuvZ"
      },
      "source": [
        "row_r1 = a[1, :]    # Rank 1 view of the second row of a  \n",
        "row_r2 = a[1:2, :]  # Rank 2 view of the second row of a\n",
        "row_r3 = a[[1], :]  # Rank 2 view of the second row of a\n",
        "print(row_r1, row_r1.shape)\n",
        "print(row_r2, row_r2.shape)\n",
        "print(row_r3, row_r3.shape)"
      ],
      "id": "P9wGP8GAYuvZ",
      "execution_count": null,
      "outputs": []
    },
    {
      "cell_type": "code",
      "metadata": {
        "id": "CAugdf2vYuva"
      },
      "source": [
        "# We can make the same distinction when accessing columns of an array:\n",
        "col_r1 = a[:, 1]\n",
        "col_r2 = a[:, 1:2]\n",
        "print(col_r1, col_r1.shape)\n",
        "print()\n",
        "print(col_r2, col_r2.shape)"
      ],
      "id": "CAugdf2vYuva",
      "execution_count": null,
      "outputs": []
    },
    {
      "cell_type": "markdown",
      "metadata": {
        "id": "9-2eQ1JuYuva"
      },
      "source": [
        "Integer array indexing: When you index into numpy arrays using slicing,\n",
        "the resulting array view will always be a subarray of the original\n",
        "array. In contrast, integer array indexing allows you to construct\n",
        "arbitrary arrays using the data from another array. Here is an example:"
      ],
      "id": "9-2eQ1JuYuva"
    },
    {
      "cell_type": "code",
      "metadata": {
        "id": "dfwJEjfRYuva"
      },
      "source": [
        "a = np.array([[1,2], [3, 4], [5, 6]])\n",
        "\n",
        "# An example of integer array indexing.\n",
        "# The returned array will have shape (3,) and \n",
        "print(a[[0, 1, 2], [0, 1, 0]])\n",
        "\n",
        "# The above example of integer array indexing is equivalent to this:\n",
        "print(np.array([a[0, 0], a[1, 1], a[2, 0]]))"
      ],
      "id": "dfwJEjfRYuva",
      "execution_count": null,
      "outputs": []
    },
    {
      "cell_type": "code",
      "metadata": {
        "id": "K2B-zIJWYuvb"
      },
      "source": [
        "# When using integer array indexing, you can reuse the same\n",
        "# element from the source array:\n",
        "print(a[[0, 0], [1, 1]])\n",
        "\n",
        "# Equivalent to the previous integer array indexing example\n",
        "print(np.array([a[0, 1], a[0, 1]]))"
      ],
      "id": "K2B-zIJWYuvb",
      "execution_count": null,
      "outputs": []
    },
    {
      "cell_type": "markdown",
      "metadata": {
        "id": "_UPaom-VYuvb"
      },
      "source": [
        "One useful trick with integer array indexing is selecting or mutating\n",
        "one element from each row of a matrix:"
      ],
      "id": "_UPaom-VYuvb"
    },
    {
      "cell_type": "code",
      "metadata": {
        "id": "7sPReIDfYuvb"
      },
      "source": [
        "# Create a new array from which we will select elements\n",
        "a = np.array([[1,2,3], [4,5,6], [7,8,9], [10, 11, 12]])\n",
        "print(a)"
      ],
      "id": "7sPReIDfYuvb",
      "execution_count": null,
      "outputs": []
    },
    {
      "cell_type": "code",
      "metadata": {
        "id": "7Bcq75gGYuvb"
      },
      "source": [
        "# Create an array of indices\n",
        "b = np.array([0, 2, 0, 1])\n",
        "\n",
        "# Select one element from each row of a using the indices in b\n",
        "print(a[np.arange(4), b])  # Prints \"[ 1  6  7 11]\""
      ],
      "id": "7Bcq75gGYuvb",
      "execution_count": null,
      "outputs": []
    },
    {
      "cell_type": "code",
      "metadata": {
        "id": "kkiWuJylYuvb"
      },
      "source": [
        "# Mutate one element from each row of a using the indices in b\n",
        "a[np.arange(4), b] += 10\n",
        "print(a)"
      ],
      "id": "kkiWuJylYuvb",
      "execution_count": null,
      "outputs": []
    },
    {
      "cell_type": "markdown",
      "metadata": {
        "id": "WqWaFXEwYuvc"
      },
      "source": [
        "Boolean array indexing: Boolean array indexing lets you pick out\n",
        "arbitrary elements of an array. Frequently this type of indexing is used\n",
        "to select the elements of an array that satisfy some condition. Here is\n",
        "an example:"
      ],
      "id": "WqWaFXEwYuvc"
    },
    {
      "cell_type": "code",
      "metadata": {
        "id": "kd4tvg-oYuvc"
      },
      "source": [
        "import numpy as np\n",
        "\n",
        "a = np.array([[1,2], [3, 4], [5, 6]])\n",
        "\n",
        "bool_idx = (a > 2)  # Find the elements of a that are bigger than 2;\n",
        "                    # this returns a numpy array of Booleans of the same\n",
        "                    # shape as a, where each slot of bool_idx tells\n",
        "                    # whether that element of a is > 2.\n",
        "\n",
        "print(bool_idx)"
      ],
      "id": "kd4tvg-oYuvc",
      "execution_count": null,
      "outputs": []
    },
    {
      "cell_type": "code",
      "metadata": {
        "id": "rOSunmr5Yuvc"
      },
      "source": [
        "# We use boolean array indexing to construct a rank 1 array\n",
        "# consisting of the elements of a corresponding to the True values\n",
        "# of bool_idx\n",
        "print(a[bool_idx])\n",
        "\n",
        "# We can do all of the above in a single concise statement:\n",
        "print(a[a > 2])"
      ],
      "id": "rOSunmr5Yuvc",
      "execution_count": null,
      "outputs": []
    },
    {
      "cell_type": "markdown",
      "metadata": {
        "id": "PVyJrhwIYuvc"
      },
      "source": [
        "For brevity we have left out a lot of details about numpy array\n",
        "indexing; if you want to know more you should read the documentation."
      ],
      "id": "PVyJrhwIYuvc"
    },
    {
      "cell_type": "markdown",
      "metadata": {
        "id": "3U4xweoWYuvc"
      },
      "source": [
        "### Datatypes"
      ],
      "id": "3U4xweoWYuvc"
    },
    {
      "cell_type": "markdown",
      "metadata": {
        "id": "Tiw3KOuLYuvd"
      },
      "source": [
        "Every numpy array is a grid of elements of the same type. Numpy provides\n",
        "a large set of numeric datatypes that you can use to construct arrays.\n",
        "Numpy tries to guess a datatype when you create an array, but functions\n",
        "that construct arrays usually also include an optional argument to\n",
        "explicitly specify the datatype. Here is an example:"
      ],
      "id": "Tiw3KOuLYuvd"
    },
    {
      "cell_type": "code",
      "metadata": {
        "id": "yxlhYwdQYuvd"
      },
      "source": [
        "x = np.array([1, 2])  # Let numpy choose the datatype\n",
        "y = np.array([1.0, 2.0])  # Let numpy choose the datatype\n",
        "z = np.array([1, 2], dtype=np.int64)  # Force a particular datatype\n",
        "\n",
        "print(x.dtype, y.dtype, z.dtype)"
      ],
      "id": "yxlhYwdQYuvd",
      "execution_count": null,
      "outputs": []
    },
    {
      "cell_type": "markdown",
      "metadata": {
        "id": "-Z4Aak-DYuvd"
      },
      "source": [
        "You can read all about numpy datatypes in the\n",
        "[documentation](http://docs.scipy.org/doc/numpy/reference/arrays.dtypes.html)."
      ],
      "id": "-Z4Aak-DYuvd"
    },
    {
      "cell_type": "markdown",
      "metadata": {
        "id": "IaZnli9KYuvd"
      },
      "source": [
        "### Array math"
      ],
      "id": "IaZnli9KYuvd"
    },
    {
      "cell_type": "markdown",
      "metadata": {
        "id": "ymLC1AP_Yuvd"
      },
      "source": [
        "Basic mathematical functions operate elementwise on arrays, and are\n",
        "available both as operator overloads and as functions in the numpy\n",
        "module."
      ],
      "id": "ymLC1AP_Yuvd"
    },
    {
      "cell_type": "markdown",
      "metadata": {
        "id": "Gc-j-FCUYuve"
      },
      "source": [
        "For example, you can perform an elementwise sum on two arrays using\n",
        "either the + operator or the `add()` function.\n",
        "\n",
        "![](http://jalammar.github.io/images/numpy/numpy-arrays-adding-1.png)\n",
        "\n",
        "![](http://jalammar.github.io/images/numpy/numpy-matrix-arithmetic.png)"
      ],
      "id": "Gc-j-FCUYuve"
    },
    {
      "cell_type": "code",
      "metadata": {
        "id": "i5jdJrppYuve"
      },
      "source": [
        "x = np.array([[1,2],[3,4]], dtype=np.float64)\n",
        "y = np.array([[5,6],[7,8]], dtype=np.float64)\n",
        "\n",
        "# Elementwise sum; both produce the array\n",
        "print(x + y)\n",
        "print(np.add(x, y))"
      ],
      "id": "i5jdJrppYuve",
      "execution_count": null,
      "outputs": []
    },
    {
      "cell_type": "markdown",
      "metadata": {
        "id": "VtIe-jSbYuvf"
      },
      "source": [
        "And this works for other operations as well, not only addition:\n",
        "\n",
        "![](http://jalammar.github.io/images/numpy/numpy-array-subtract-multiply-divide.png)"
      ],
      "id": "VtIe-jSbYuvf"
    },
    {
      "cell_type": "code",
      "metadata": {
        "id": "xGuNfLzZYuvf"
      },
      "source": [
        "# Elementwise difference; both produce the array\n",
        "print(x - y)\n",
        "print(np.subtract(x, y))"
      ],
      "id": "xGuNfLzZYuvf",
      "execution_count": null,
      "outputs": []
    },
    {
      "cell_type": "code",
      "metadata": {
        "id": "X0zcXZpvYuvf"
      },
      "source": [
        "# Elementwise product; both produce the array\n",
        "print(x * y)\n",
        "print(np.multiply(x, y))"
      ],
      "id": "X0zcXZpvYuvf",
      "execution_count": null,
      "outputs": []
    },
    {
      "cell_type": "code",
      "metadata": {
        "id": "F76es96EYuvf"
      },
      "source": [
        "# Elementwise division; both produce the array\n",
        "# [[ 0.2         0.33333333]\n",
        "#  [ 0.42857143  0.5       ]]\n",
        "print(x / y)\n",
        "print(np.divide(x, y))"
      ],
      "id": "F76es96EYuvf",
      "execution_count": null,
      "outputs": []
    },
    {
      "cell_type": "code",
      "metadata": {
        "id": "D7XH4Ej9Yuvg"
      },
      "source": [
        "# Elementwise square root; produces the array\n",
        "# [[ 1.          1.41421356]\n",
        "#  [ 1.73205081  2.        ]]\n",
        "print(np.sqrt(x))"
      ],
      "id": "D7XH4Ej9Yuvg",
      "execution_count": null,
      "outputs": []
    },
    {
      "cell_type": "markdown",
      "metadata": {
        "id": "MrKUvntzYuvg"
      },
      "source": [
        "Note that unlike MATLAB, `*` is elementwise multiplication, not matrix\n",
        "multiplication. We instead use the `dot()` function to compute inner\n",
        "products of vectors, to multiply a vector by a matrix, and to multiply\n",
        "matrices. `dot()` is available both as a function in the numpy module\n",
        "and as an instance method of array objects:\n",
        "\n",
        "![](http://jalammar.github.io/images/numpy/numpy-matrix-dot-product-1.png)"
      ],
      "id": "MrKUvntzYuvg"
    },
    {
      "cell_type": "code",
      "metadata": {
        "id": "-UZN4ahbYuvg"
      },
      "source": [
        "x = np.array([[1,2],[3,4]])\n",
        "y = np.array([[5,6],[7,8]])\n",
        "\n",
        "v = np.array([9,10])\n",
        "w = np.array([11, 12])\n",
        "\n",
        "# Inner product of vectors; both produce 219\n",
        "print(v.dot(w))\n",
        "print(np.dot(v, w))"
      ],
      "id": "-UZN4ahbYuvg",
      "execution_count": null,
      "outputs": []
    },
    {
      "cell_type": "markdown",
      "metadata": {
        "id": "gIyt5JT8Yuvh"
      },
      "source": [
        "You can also use the `@` operator which is equivalent to numpy's `dot`\n",
        "operator."
      ],
      "id": "gIyt5JT8Yuvh"
    },
    {
      "cell_type": "code",
      "metadata": {
        "id": "RTrHbLqXYuvh"
      },
      "source": [
        "print(v @ w)"
      ],
      "id": "RTrHbLqXYuvh",
      "execution_count": null,
      "outputs": []
    },
    {
      "cell_type": "code",
      "metadata": {
        "id": "IcFpTG2zYuvh"
      },
      "source": [
        "# Matrix / vector product; both produce the rank 1 array [29 67]\n",
        "print(x.dot(v))\n",
        "print(np.dot(x, v))\n",
        "print(x @ v)"
      ],
      "id": "IcFpTG2zYuvh",
      "execution_count": null,
      "outputs": []
    },
    {
      "cell_type": "code",
      "metadata": {
        "id": "RwWKYmvhYuvh"
      },
      "source": [
        "# Matrix / matrix product; both produce the rank 2 array\n",
        "# [[19 22]\n",
        "#  [43 50]]\n",
        "print(x.dot(y))\n",
        "print(np.dot(x, y))\n",
        "print(x @ y)"
      ],
      "id": "RwWKYmvhYuvh",
      "execution_count": null,
      "outputs": []
    },
    {
      "cell_type": "markdown",
      "metadata": {
        "id": "okuK5iJFYuvi"
      },
      "source": [
        "Numpy provides many useful functions for performing computations on\n",
        "arrays, such as `min()`, `max()`, `sum()`, and others:\n",
        "\n",
        "![](http://jalammar.github.io/images/numpy/numpy-matrix-aggregation-1.png)"
      ],
      "id": "okuK5iJFYuvi"
    },
    {
      "cell_type": "code",
      "metadata": {
        "id": "WJQMzxx0Yuvi"
      },
      "source": [
        "x = np.array([[1, 2], [3, 4], [5, 6]])\n",
        "\n",
        "print(np.max(x))  # Compute sum of all elements; prints \"21\"\n",
        "print(np.min(x))  # Compute sum of all elements; prints \"21\"\n",
        "print(np.sum(x))  # Compute sum of all elements; prints \"21\""
      ],
      "id": "WJQMzxx0Yuvi",
      "execution_count": null,
      "outputs": []
    },
    {
      "cell_type": "markdown",
      "metadata": {
        "id": "FM0Jg_TIYuvi"
      },
      "source": [
        "Not only can we aggregate all the values in a matrix using these\n",
        "functions, but we can also aggregate across the rows or columns by using\n",
        "the `axis` parameter:\n",
        "\n",
        "![](http://jalammar.github.io/images/numpy/numpy-matrix-aggregation-4.png)"
      ],
      "id": "FM0Jg_TIYuvi"
    },
    {
      "cell_type": "code",
      "metadata": {
        "id": "__MBClfiYuvi"
      },
      "source": [
        "x = np.array([[1, 2], [5, 3], [4, 6]])\n",
        "\n",
        "print(np.max(x, axis=0))  # Compute max of each column; prints \"[5 6]\"\n",
        "print(np.max(x, axis=1))  # Compute max of each row; prints \"[2 5 6]\""
      ],
      "id": "__MBClfiYuvi",
      "execution_count": null,
      "outputs": []
    },
    {
      "cell_type": "markdown",
      "metadata": {
        "id": "H1LQN18zYuvi"
      },
      "source": [
        "You can find the full list of mathematical functions provided by numpy\n",
        "in the\n",
        "[documentation](http://docs.scipy.org/doc/numpy/reference/routines.math.html).\n",
        "\n",
        "Apart from computing mathematical functions using arrays, we frequently\n",
        "need to reshape or otherwise manipulate data in arrays. The simplest\n",
        "example of this type of operation is transposing a matrix; to transpose\n",
        "a matrix, simply use the T attribute of an array object.\n",
        "\n",
        "![](http://jalammar.github.io/images/numpy/numpy-transpose.png)"
      ],
      "id": "H1LQN18zYuvi"
    },
    {
      "cell_type": "code",
      "metadata": {
        "id": "-ZbiQIedYuvj"
      },
      "source": [
        "x = np.array([[1, 2], [3, 4], [5, 6]])\n",
        "\n",
        "print(x)\n",
        "print(\"transpose\\n\", x.T)"
      ],
      "id": "-ZbiQIedYuvj",
      "execution_count": null,
      "outputs": []
    },
    {
      "cell_type": "code",
      "metadata": {
        "id": "wE5S-eybYuvj"
      },
      "source": [
        "v = np.array([[1,2,3]])\n",
        "print(v )\n",
        "print(\"transpose\\n\", v.T)"
      ],
      "id": "wE5S-eybYuvj",
      "execution_count": null,
      "outputs": []
    },
    {
      "cell_type": "markdown",
      "metadata": {
        "id": "P02ja8lvYuvj"
      },
      "source": [
        "In more advanced use case, you may find yourself needing to change the\n",
        "dimensions of a certain matrix. This is often the case in machine\n",
        "learning applications where a certain model expects a certain shape for\n",
        "the inputs that is different from your dataset. numpy's `reshape()`\n",
        "method is useful in these cases.\n",
        "\n",
        "![](http://jalammar.github.io/images/numpy/numpy-reshape.png)"
      ],
      "id": "P02ja8lvYuvj"
    },
    {
      "cell_type": "markdown",
      "metadata": {
        "id": "ctUjMvHSYuvk"
      },
      "source": [
        "### Broadcasting"
      ],
      "id": "ctUjMvHSYuvk"
    },
    {
      "cell_type": "markdown",
      "metadata": {
        "id": "0gt4Cn17Yuvk"
      },
      "source": [
        "Broadcasting is a powerful mechanism that allows numpy to work with\n",
        "arrays of different shapes when performing arithmetic operations.\n",
        "Frequently we have a smaller array and a larger array, and we want to\n",
        "use the smaller array multiple times to perform some operation on the\n",
        "larger array."
      ],
      "id": "0gt4Cn17Yuvk"
    },
    {
      "cell_type": "markdown",
      "metadata": {
        "id": "8LwR9rB9Yuvl"
      },
      "source": [
        "For example, suppose that we want to add a constant vector to each row\n",
        "of a matrix. We could do it like this:"
      ],
      "id": "8LwR9rB9Yuvl"
    },
    {
      "cell_type": "code",
      "metadata": {
        "id": "R5bnR5Z4Yuvl"
      },
      "source": [
        "# We will add the vector v to each row of the matrix x,\n",
        "# storing the result in the matrix y\n",
        "x = np.array([[1,2,3], [4,5,6], [7,8,9], [10, 11, 12]])\n",
        "v = np.array([1, 0, 1])\n",
        "y = np.empty_like(x)   # Create an empty matrix with the same shape as x\n",
        "\n",
        "# Add the vector v to each row of the matrix x with an explicit loop\n",
        "for i in range(4):\n",
        "    y[i, :] = x[i, :] + v\n",
        "\n",
        "print(y)"
      ],
      "id": "R5bnR5Z4Yuvl",
      "execution_count": null,
      "outputs": []
    },
    {
      "cell_type": "markdown",
      "metadata": {
        "id": "gGCSU725Yuvm"
      },
      "source": [
        "This works; however when the matrix `x` is very large, computing an\n",
        "explicit loop in Python could be slow. Note that adding the vector v to\n",
        "each row of the matrix `x` is equivalent to forming a matrix `vv` by\n",
        "stacking multiple copies of `v` vertically, then performing elementwise\n",
        "summation of `x` and `vv`. We could implement this approach like this:"
      ],
      "id": "gGCSU725Yuvm"
    },
    {
      "cell_type": "code",
      "metadata": {
        "id": "qBQiWpAtYuvm"
      },
      "source": [
        "vv = np.tile(v, (4, 1))  # Stack 4 copies of v on top of each other\n",
        "print(vv)                # Prints \"[[1 0 1]\n",
        "                         #          [1 0 1]\n",
        "                         #          [1 0 1]\n",
        "                         #          [1 0 1]]\""
      ],
      "id": "qBQiWpAtYuvm",
      "execution_count": null,
      "outputs": []
    },
    {
      "cell_type": "code",
      "metadata": {
        "id": "BYkHuCMlYuvm"
      },
      "source": [
        "y = x + vv  # Add x and vv elementwise\n",
        "print(y)"
      ],
      "id": "BYkHuCMlYuvm",
      "execution_count": null,
      "outputs": []
    },
    {
      "cell_type": "markdown",
      "metadata": {
        "id": "vzuviZUDYuvm"
      },
      "source": [
        "Numpy broadcasting allows us to perform this computation without\n",
        "actually creating multiple copies of v. Consider this version, using\n",
        "broadcasting:"
      ],
      "id": "vzuviZUDYuvm"
    },
    {
      "cell_type": "code",
      "metadata": {
        "id": "FNv_hpXAYuvp"
      },
      "source": [
        "import numpy as np\n",
        "\n",
        "# We will add the vector v to each row of the matrix x,\n",
        "# storing the result in the matrix y\n",
        "x = np.array([[1,2,3], [4,5,6], [7,8,9], [10, 11, 12]])\n",
        "v = np.array([1, 0, 1])\n",
        "y = x + v  # Add v to each row of x using broadcasting\n",
        "print(y)"
      ],
      "id": "FNv_hpXAYuvp",
      "execution_count": null,
      "outputs": []
    },
    {
      "cell_type": "markdown",
      "metadata": {
        "id": "r_2SPHNaYuvt"
      },
      "source": [
        "The line `y = x + v` works even though `x` has shape `(4, 3)` and `v`\n",
        "has shape `(3,)` due to broadcasting; this line works as if v actually\n",
        "had shape `(4, 3)`, where each row was a copy of `v`, and the sum was\n",
        "performed elementwise.\n",
        "\n",
        "Broadcasting two arrays together follows these rules:\n",
        "\n",
        "1.  If the arrays do not have the same rank, prepend the shape of the\n",
        "    lower rank array with 1s until both shapes have the same length.\n",
        "2.  The two arrays are said to be compatible in a dimension if they have\n",
        "    the same size in the dimension, or if one of the arrays has size 1\n",
        "    in that dimension.\n",
        "3.  The arrays can be broadcast together if they are compatible in all\n",
        "    dimensions.\n",
        "4.  After broadcasting, each array behaves as if it had shape equal to\n",
        "    the elementwise maximum of shapes of the two input arrays.\n",
        "5.  In any dimension where one array had size 1 and the other array had\n",
        "    size greater than 1, the first array behaves as if it were copied\n",
        "    along that dimension\n",
        "\n",
        "If this explanation does not make sense, try reading the explanation\n",
        "from the\n",
        "[documentation](http://docs.scipy.org/doc/numpy/user/basics.broadcasting.html)\n",
        "or this [explanation](http://wiki.scipy.org/EricsBroadcastingDoc).\n",
        "\n",
        "Functions that support broadcasting are known as universal functions.\n",
        "You can find the list of all universal functions in the\n",
        "[documentation](http://docs.scipy.org/doc/numpy/reference/ufuncs.html#available-ufuncs)."
      ],
      "id": "r_2SPHNaYuvt"
    },
    {
      "cell_type": "markdown",
      "metadata": {
        "id": "mpd2xMqYYuvv"
      },
      "source": [
        "Here are a couple of visual examples involving broadcasting.\n",
        "\n",
        "![](http://jalammar.github.io/images/numpy/numpy-array-broadcast.png)\n",
        "\n",
        "Note the application of rule\\# 2 - these arrays are compatible in each\n",
        "dimension if they have either the same size in that dimension, or if one\n",
        "array has size 1 in that dimension.\n",
        "\n",
        "![](http://jalammar.github.io/images/numpy/numpy-matrix-broadcast.png)"
      ],
      "id": "mpd2xMqYYuvv"
    },
    {
      "cell_type": "markdown",
      "metadata": {
        "id": "3Gk5SskeYuvw"
      },
      "source": [
        "And here are some more practical applications:"
      ],
      "id": "3Gk5SskeYuvw"
    },
    {
      "cell_type": "code",
      "metadata": {
        "id": "Er8SaL8pYuvx"
      },
      "source": [
        "# Compute outer product of vectors\n",
        "v = np.array([1,2,3])  # v has shape (3,)\n",
        "w = np.array([4,5])    # w has shape (2,)\n",
        "# To compute an outer product, we first reshape v to be a column\n",
        "# vector of shape (3, 1); we can then broadcast it against w to yield\n",
        "# an output of shape (3, 2), which is the outer product of v and w:\n",
        "\n",
        "print(np.reshape(v, (3, 1)) * w)"
      ],
      "id": "Er8SaL8pYuvx",
      "execution_count": null,
      "outputs": []
    },
    {
      "cell_type": "code",
      "metadata": {
        "id": "PAw5fLFPYuvy"
      },
      "source": [
        "# Add a vector to each row of a matrix\n",
        "x = np.array([[1,2,3], [4,5,6]])\n",
        "# x has shape (2, 3) and v has shape (3,) so they broadcast to (2, 3),\n",
        "# giving the following matrix:\n",
        "\n",
        "print(x + v)"
      ],
      "id": "PAw5fLFPYuvy",
      "execution_count": null,
      "outputs": []
    },
    {
      "cell_type": "code",
      "metadata": {
        "id": "XCdaIQs8Yuvy"
      },
      "source": [
        "# Add a vector to each column of a matrix\n",
        "# x has shape (2, 3) and w has shape (2,).\n",
        "# If we transpose x then it has shape (3, 2) and can be broadcast\n",
        "# against w to yield a result of shape (3, 2); transposing this result\n",
        "# yields the final result of shape (2, 3) which is the matrix x with\n",
        "# the vector w added to each column. Gives the following matrix:\n",
        "\n",
        "print((x.T + w).T)"
      ],
      "id": "XCdaIQs8Yuvy",
      "execution_count": null,
      "outputs": []
    },
    {
      "cell_type": "code",
      "metadata": {
        "id": "KgfqMmtzYuvz"
      },
      "source": [
        "# Another solution is to reshape w to be a row vector of shape (2, 1);\n",
        "# we can then broadcast it directly against x to produce the same\n",
        "# output.\n",
        "print(x + np.reshape(w, (2, 1)))"
      ],
      "id": "KgfqMmtzYuvz",
      "execution_count": null,
      "outputs": []
    },
    {
      "cell_type": "code",
      "metadata": {
        "id": "us7c3vEuYuvz"
      },
      "source": [
        "# Multiply a matrix by a constant:\n",
        "# x has shape (2, 3). Numpy treats scalars as arrays of shape ();\n",
        "# these can be broadcast together to shape (2, 3), producing the\n",
        "# following array:\n",
        "print(x * 2)"
      ],
      "id": "us7c3vEuYuvz",
      "execution_count": null,
      "outputs": []
    },
    {
      "cell_type": "markdown",
      "metadata": {
        "id": "zyMyHFupYuvz"
      },
      "source": [
        "Broadcasting typically makes your code more concise and faster, so you\n",
        "should strive to use it where possible."
      ],
      "id": "zyMyHFupYuvz"
    },
    {
      "cell_type": "markdown",
      "metadata": {
        "id": "3tPPgeGkYuv0"
      },
      "source": [
        "This brief overview has touched on many of the important things that you\n",
        "need to know about numpy, but is far from complete. Check out the [numpy\n",
        "reference](http://docs.scipy.org/doc/numpy/reference/) to find out much\n",
        "more about numpy."
      ],
      "id": "3tPPgeGkYuv0"
    },
    {
      "cell_type": "markdown",
      "metadata": {
        "id": "IRsBF_YUYuv1"
      },
      "source": [
        "Matplotlib\n",
        "----------"
      ],
      "id": "IRsBF_YUYuv1"
    },
    {
      "cell_type": "markdown",
      "metadata": {
        "id": "CO6bNaUHYuv1"
      },
      "source": [
        "Matplotlib is a plotting library. In this section we give a brief\n",
        "introduction to the `matplotlib.pyplot` module, which provides a\n",
        "plotting system similar to that of MATLAB.\n",
        "\n",
        "By convention, we typically import this module using the `plt` alias:"
      ],
      "id": "CO6bNaUHYuv1"
    },
    {
      "cell_type": "code",
      "metadata": {
        "id": "CKf8N7FvYuv1"
      },
      "source": [
        "import matplotlib.pyplot as plt"
      ],
      "id": "CKf8N7FvYuv1",
      "execution_count": null,
      "outputs": []
    },
    {
      "cell_type": "markdown",
      "metadata": {
        "id": "iBNDKovtYuv1"
      },
      "source": [
        "### Plotting"
      ],
      "id": "iBNDKovtYuv1"
    },
    {
      "cell_type": "markdown",
      "metadata": {
        "id": "2iKAfwWzYuv2"
      },
      "source": [
        "The most important function in `matplotlib` is `plot`, which allows you\n",
        "to plot 2D data. Here is a simple example:"
      ],
      "id": "2iKAfwWzYuv2"
    },
    {
      "cell_type": "code",
      "metadata": {
        "id": "pZI6YnUkYuv2"
      },
      "source": [
        "# Compute the x and y coordinates for points on a sine curve\n",
        "x = np.arange(0, 3 * np.pi, 0.1)\n",
        "y = np.sin(x)\n",
        "\n",
        "# Plot the points using matplotlib\n",
        "plt.plot(x, y)\n",
        "\n",
        "# Show the figure.\n",
        "plt.show()"
      ],
      "id": "pZI6YnUkYuv2",
      "execution_count": null,
      "outputs": []
    },
    {
      "cell_type": "markdown",
      "metadata": {
        "id": "bWawQEp_Yuv3"
      },
      "source": [
        "With just a little bit of extra work we can easily plot multiple lines\n",
        "at once, and add a title, legend, and axis labels:"
      ],
      "id": "bWawQEp_Yuv3"
    },
    {
      "cell_type": "code",
      "metadata": {
        "id": "TFLSnFPoYuv3"
      },
      "source": [
        "y_sin = np.sin(x)\n",
        "y_cos = np.cos(x)\n",
        "\n",
        "# Plot the points using matplotlib\n",
        "plt.plot(x, y_sin, label='Sine')\n",
        "plt.plot(x, y_cos, label='Cosine')\n",
        "plt.legend() # uses the label arguments given above\n",
        "\n",
        "plt.xlabel('x axis label')\n",
        "plt.ylabel('y axis label')\n",
        "plt.title('Sine and Cosine')\n",
        "\n",
        "# Show the figure.\n",
        "plt.show()"
      ],
      "id": "TFLSnFPoYuv3",
      "execution_count": null,
      "outputs": []
    },
    {
      "cell_type": "markdown",
      "metadata": {
        "id": "BuUVp27nYuv3"
      },
      "source": [
        "Another useful, basic, plot is the `scatter` plot:"
      ],
      "id": "BuUVp27nYuv3"
    },
    {
      "cell_type": "code",
      "metadata": {
        "id": "bVdvJcoHYuv3"
      },
      "source": [
        "x = np.random.rand(50)\n",
        "y = np.random.rand(50)\n",
        "colors = np.random.randint(0, 2, 50)\n",
        "\n",
        "plt.scatter(x, y, c=colors)\n",
        "\n",
        "plt.show()"
      ],
      "id": "bVdvJcoHYuv3",
      "execution_count": null,
      "outputs": []
    },
    {
      "cell_type": "markdown",
      "metadata": {
        "id": "1TFxrZ4WYuv3"
      },
      "source": [
        "### Subplots"
      ],
      "id": "1TFxrZ4WYuv3"
    },
    {
      "cell_type": "markdown",
      "metadata": {
        "id": "9dNwQ60RYuv4"
      },
      "source": [
        "You can plot different things in the same figure using the `subplot`\n",
        "function. Here is an example:"
      ],
      "id": "9dNwQ60RYuv4"
    },
    {
      "cell_type": "code",
      "metadata": {
        "id": "DSwqn2UaYuv4"
      },
      "source": [
        "# Compute the x and y coordinates for points on sine and cosine curves\n",
        "x = np.arange(0, 3 * np.pi, 0.1)\n",
        "y_sin = np.sin(x)\n",
        "y_cos = np.cos(x)\n",
        "\n",
        "# Set up a subplot grid that has height 2 and width 1,\n",
        "# and set the first such subplot as active.\n",
        "plt.subplot(2, 1, 1)\n",
        "\n",
        "# Make the first plot\n",
        "plt.plot(x, y_sin)\n",
        "plt.title('Sine')\n",
        "\n",
        "# Set the second subplot as active, and make the second plot.\n",
        "plt.subplot(2, 1, 2)\n",
        "plt.plot(x, y_cos)\n",
        "plt.title('Cosine')\n",
        "\n",
        "# Adjust spacing between subplots\n",
        "plt.subplots_adjust(hspace = 0.4)\n",
        "\n",
        "# Show the figure.\n",
        "plt.show()"
      ],
      "id": "DSwqn2UaYuv4",
      "execution_count": null,
      "outputs": []
    },
    {
      "cell_type": "markdown",
      "metadata": {
        "id": "T7C2lmwTYuv4"
      },
      "source": [
        "You can read much more about the `subplot` function in the\n",
        "[documentation](http://matplotlib.org/api/pyplot_api.html#matplotlib.pyplot.subplot)."
      ],
      "id": "T7C2lmwTYuv4"
    },
    {
      "cell_type": "markdown",
      "metadata": {
        "id": "18o3N2RPYuv4"
      },
      "source": [
        "You can use the `imshow` function to display images from a file. Here is\n",
        "an example:"
      ],
      "id": "18o3N2RPYuv4"
    },
    {
      "cell_type": "code",
      "metadata": {
        "id": "VTXsZG2PYuv4"
      },
      "source": [
        "from matplotlib.cbook import get_sample_data\n",
        "\n",
        "img_file = get_sample_data('grace_hopper.jpg')\n",
        "\n",
        "img = plt.imread(img_file)\n",
        "plt.imshow(img)\n",
        "plt.show()"
      ],
      "id": "VTXsZG2PYuv4",
      "execution_count": null,
      "outputs": []
    },
    {
      "cell_type": "markdown",
      "metadata": {
        "id": "kvJKwf4-Yuv4"
      },
      "source": [
        "The `matplotlib` library is very flexible, and you can create virtually\n",
        "any plot and modify its appearance in any way you might think of. If you\n",
        "don’t like the way your plot looks, fix it! Use the\n",
        "[documentation](http://matplotlib.org/api/pyplot_api.html) to learn\n",
        "more."
      ],
      "id": "kvJKwf4-Yuv4"
    }
  ]
}